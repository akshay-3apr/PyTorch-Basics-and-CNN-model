{
  "nbformat": 4,
  "nbformat_minor": 0,
  "metadata": {
    "colab": {
      "name": "LearningPyTorch.ipynb",
      "provenance": [],
      "collapsed_sections": [
        "Jo8vJjWY6cWf"
      ]
    },
    "kernelspec": {
      "name": "python3",
      "display_name": "Python 3"
    },
    "accelerator": "GPU"
  },
  "cells": [
    {
      "cell_type": "markdown",
      "metadata": {
        "id": "Jo8vJjWY6cWf",
        "colab_type": "text"
      },
      "source": [
        "# Torch Basics"
      ]
    },
    {
      "cell_type": "code",
      "metadata": {
        "id": "EzniP-3jnFn0",
        "colab_type": "code",
        "outputId": "7f3b6370-d4dc-4137-b731-de3e448b182c",
        "colab": {
          "base_uri": "https://localhost:8080/",
          "height": 1000
        }
      },
      "source": [
        "import torch\n",
        "\n",
        "#Construct a empty matrix, uninitialized\n",
        "x = torch.empty(5,3)\n",
        "print(\"Empty Tensor: \",x)\n",
        "print(\"\\n<\"+\"=\"*50+\">\\n\")\n",
        "\n",
        "x = torch.rand(5,3)\n",
        "print(\"Random Initialized Tensor: \",x)\n",
        "print(\"\\n<\"+\"=\"*50+\">\\n\")\n",
        "\n",
        "x = torch.zeros(5,3,dtype=torch.long)\n",
        "print(\"Tensor Initialized with Zeros: \",x)\n",
        "print(\"\\n<\"+\"=\"*50+\">\\n\")\n",
        "\n",
        "x=torch.tensor([5.5,3],dtype=torch.long)\n",
        "print(\"Create tensor from data: \",x)\n",
        "print(\"\\n<\"+\"=\"*50+\">\\n\")\n",
        "\n",
        "x=x.new_ones(5,3,dtype=torch.double)\n",
        "print('create a tensor based on existing tensor: ',x)\n",
        "x=torch.randn_like(x,dtype=torch.float)\n",
        "print('Create a random like tensor from exisitng tensor. x:',x)\n",
        "print(\"\\n<\"+\"=\"*50+\">\\n\")\n",
        "\n",
        "#size of tensor\n",
        "print(\"Size of tensor: \",x.size())\n",
        "print(\"\\n<\"+\"=\"*50+\">\\n\")\n",
        "\n",
        "#addition of two matrices\n",
        "x=torch.rand(5,3)\n",
        "y=torch.rand(5,3)\n",
        "print(\"Addition of tensor: \")\n",
        "print(\"1st tensor: \",x)\n",
        "print(\"2nd tensor: \",y)\n",
        "print('x+y: ',x+y)\n",
        "print(\"\\n<\"+\"=\"*50+\">\\n\")\n",
        "\n",
        "#converting tensor to numpy array\n",
        "print(\"After converting tensor x to numpy: \",x.numpy())\n",
        "print(\"X does not change: \",x)\n",
        "print(\"\\n<\"+\"=\"*50+\">\\n\")\n",
        "\n",
        "#converting numpy array to torch tensor\n",
        "import numpy as np\n",
        "a = np.ones(5)\n",
        "print(\"before converting a: \",a)\n",
        "b=torch.from_numpy(a)\n",
        "print(\"after converting a to tensor b: \",b)\n",
        "np.add(a,1,out=a)\n",
        "print(\"After addition a is: \",a)\n",
        "print(\"After addition of a, b also changes: \",a)\n",
        "print(\"\\n<\"+\"=\"*50+\">\\n\")"
      ],
      "execution_count": 2,
      "outputs": [
        {
          "output_type": "stream",
          "text": [
            "Empty Tensor:  tensor([[2.4639e-36, 0.0000e+00, 4.4842e-44],\n",
            "        [0.0000e+00,        nan, 0.0000e+00],\n",
            "        [4.1495e-08, 6.4535e-10, 1.0258e-08],\n",
            "        [2.7179e-06, 4.2283e+21, 2.6563e+20],\n",
            "        [6.4898e-10, 3.3733e-06, 3.9341e-01]])\n",
            "\n",
            "<==================================================>\n",
            "\n",
            "Random Initialized Tensor:  tensor([[0.0582, 0.1006, 0.6214],\n",
            "        [0.0405, 0.4966, 0.2543],\n",
            "        [0.4274, 0.0817, 0.6858],\n",
            "        [0.7406, 0.6854, 0.6466],\n",
            "        [0.7093, 0.0274, 0.2135]])\n",
            "\n",
            "<==================================================>\n",
            "\n",
            "Tensor Initialized with Zeros:  tensor([[0, 0, 0],\n",
            "        [0, 0, 0],\n",
            "        [0, 0, 0],\n",
            "        [0, 0, 0],\n",
            "        [0, 0, 0]])\n",
            "\n",
            "<==================================================>\n",
            "\n",
            "Create tensor from data:  tensor([5, 3])\n",
            "\n",
            "<==================================================>\n",
            "\n",
            "create a tensor based on existing tensor:  tensor([[1., 1., 1.],\n",
            "        [1., 1., 1.],\n",
            "        [1., 1., 1.],\n",
            "        [1., 1., 1.],\n",
            "        [1., 1., 1.]], dtype=torch.float64)\n",
            "Create a random like tensor from exisitng tensor. x: tensor([[-1.6684, -0.7215,  0.1271],\n",
            "        [-0.0109,  2.7418,  0.5241],\n",
            "        [ 0.8901,  0.3532, -0.5212],\n",
            "        [-1.3977, -1.2214,  2.2419],\n",
            "        [-0.8733, -0.0343,  1.2589]])\n",
            "\n",
            "<==================================================>\n",
            "\n",
            "Size of tensor:  torch.Size([5, 3])\n",
            "\n",
            "<==================================================>\n",
            "\n",
            "Addition of tensor: \n",
            "1st tensor:  tensor([[0.2910, 0.6545, 0.1782],\n",
            "        [0.5037, 0.5566, 0.8381],\n",
            "        [0.4225, 0.9496, 0.8031],\n",
            "        [0.2615, 0.0012, 0.5715],\n",
            "        [0.2689, 0.2218, 0.6028]])\n",
            "2nd tensor:  tensor([[0.1317, 0.7363, 0.5690],\n",
            "        [0.6620, 0.0472, 0.0889],\n",
            "        [0.8075, 0.1779, 0.9828],\n",
            "        [0.4099, 0.0253, 0.8440],\n",
            "        [0.1668, 0.5088, 0.6697]])\n",
            "x+y:  tensor([[0.4228, 1.3908, 0.7473],\n",
            "        [1.1657, 0.6037, 0.9270],\n",
            "        [1.2300, 1.1275, 1.7860],\n",
            "        [0.6714, 0.0265, 1.4155],\n",
            "        [0.4357, 0.7306, 1.2724]])\n",
            "\n",
            "<==================================================>\n",
            "\n",
            "After converting tensor x to numpy:  [[0.2910388  0.65445817 0.17824423]\n",
            " [0.5036973  0.55655473 0.83814824]\n",
            " [0.42254728 0.9496037  0.8031256 ]\n",
            " [0.26147825 0.00115347 0.57153344]\n",
            " [0.2689283  0.22175556 0.6027808 ]]\n",
            "X does not change:  tensor([[0.2910, 0.6545, 0.1782],\n",
            "        [0.5037, 0.5566, 0.8381],\n",
            "        [0.4225, 0.9496, 0.8031],\n",
            "        [0.2615, 0.0012, 0.5715],\n",
            "        [0.2689, 0.2218, 0.6028]])\n",
            "\n",
            "<==================================================>\n",
            "\n",
            "before converting a:  [1. 1. 1. 1. 1.]\n",
            "after converting a to tensor b:  tensor([1., 1., 1., 1., 1.], dtype=torch.float64)\n",
            "After addition a is:  [2. 2. 2. 2. 2.]\n",
            "After addition of a, b also changes:  [2. 2. 2. 2. 2.]\n",
            "\n",
            "<==================================================>\n",
            "\n"
          ],
          "name": "stdout"
        }
      ]
    },
    {
      "cell_type": "markdown",
      "metadata": {
        "id": "-9klk3u8F-X6",
        "colab_type": "text"
      },
      "source": [
        "## Check if CUDA is available"
      ]
    },
    {
      "cell_type": "code",
      "metadata": {
        "id": "Utz6X4DMIO5b",
        "colab_type": "code",
        "outputId": "93e3926a-0def-4e02-de1a-7862c13e5489",
        "colab": {
          "base_uri": "https://localhost:8080/",
          "height": 187
        }
      },
      "source": [
        "# let us run this cell only if CUDA is available\n",
        "# We will use ``torch.device`` objects to move tensors in and out of GPU\n",
        "if torch.cuda.is_available():\n",
        "    device = torch.device(\"cuda\")          # a CUDA device object\n",
        "    y = torch.ones_like(x, device=device)  # directly create a tensor on GPU\n",
        "    x = x.to(device)                       # or just use strings ``.to(\"cuda\")``\n",
        "    z = x + y\n",
        "    print(z)\n",
        "    print(z.to(\"cpu\", torch.double))       # ``.to`` can also change dtype together!"
      ],
      "execution_count": 3,
      "outputs": [
        {
          "output_type": "stream",
          "text": [
            "tensor([[1.2910, 1.6545, 1.1782],\n",
            "        [1.5037, 1.5566, 1.8381],\n",
            "        [1.4225, 1.9496, 1.8031],\n",
            "        [1.2615, 1.0012, 1.5715],\n",
            "        [1.2689, 1.2218, 1.6028]], device='cuda:0')\n",
            "tensor([[1.2910, 1.6545, 1.1782],\n",
            "        [1.5037, 1.5566, 1.8381],\n",
            "        [1.4225, 1.9496, 1.8031],\n",
            "        [1.2615, 1.0012, 1.5715],\n",
            "        [1.2689, 1.2218, 1.6028]], dtype=torch.float64)\n"
          ],
          "name": "stdout"
        }
      ]
    },
    {
      "cell_type": "markdown",
      "metadata": {
        "id": "y5aaN09dFsEl",
        "colab_type": "text"
      },
      "source": [
        "##Gradient Calculation:"
      ]
    },
    {
      "cell_type": "code",
      "metadata": {
        "id": "1La_JEK2FwFz",
        "colab_type": "code",
        "colab": {
          "base_uri": "https://localhost:8080/",
          "height": 34
        },
        "outputId": "3b9becb5-28ef-4d56-edf5-4b6a531f9d06"
      },
      "source": [
        "import torch\n",
        "# Creating the graph\n",
        "# Only Tensors of floating point dtype can require gradi\n",
        "x = torch.tensor(1.0, requires_grad = True)\n",
        "z = x ** 3\n",
        "z.backward() #Computes the gradient \n",
        "print(\"Gradient Calculated: \",x.grad.data) #Prints '3' which is dz/dx "
      ],
      "execution_count": 4,
      "outputs": [
        {
          "output_type": "stream",
          "text": [
            "Gradient Calculated:  tensor(3.)\n"
          ],
          "name": "stdout"
        }
      ]
    },
    {
      "cell_type": "markdown",
      "metadata": {
        "id": "W8-cG7-j6W55",
        "colab_type": "text"
      },
      "source": [
        "# Implementing Neural Networks from scratch"
      ]
    },
    {
      "cell_type": "markdown",
      "metadata": {
        "id": "jti1MHnKpoCr",
        "colab_type": "text"
      },
      "source": [
        "##Importing Python and PyTorch Libraries"
      ]
    },
    {
      "cell_type": "code",
      "metadata": {
        "id": "nCwVRawUpg-F",
        "colab_type": "code",
        "colab": {}
      },
      "source": [
        "import torch\n",
        "import torch.nn as nn\n",
        "import torch.nn.functional as F\n",
        "import torchvision.transforms as transforms\n",
        "import torchvision.datasets as dsets\n",
        "from sklearn.model_selection import train_test_split\n",
        "import random\n",
        "import numpy as np\n",
        "import matplotlib.pyplot as plt\n",
        "import matplotlib.image as mpimg\n",
        "%matplotlib inline"
      ],
      "execution_count": 0,
      "outputs": []
    },
    {
      "cell_type": "markdown",
      "metadata": {
        "id": "dIejfKxxpv-t",
        "colab_type": "text"
      },
      "source": [
        "## identify and specify the GPU as the device\n"
      ]
    },
    {
      "cell_type": "code",
      "metadata": {
        "id": "1H9l26Ylpt6J",
        "colab_type": "code",
        "colab": {
          "base_uri": "https://localhost:8080/",
          "height": 34
        },
        "outputId": "f455a1bd-f7f5-40e9-adc0-9250eb11a0bd"
      },
      "source": [
        "device = torch.device(\"cuda\" if torch.cuda.is_available() else \"cpu\")\n",
        "n_gpu = torch.cuda.device_count()\n",
        "\n",
        "SEED = 19\n",
        "\n",
        "random.seed(SEED)\n",
        "np.random.seed(SEED)\n",
        "torch.manual_seed(SEED)\n",
        "if device == torch.device(\"cuda\"):\n",
        "    torch.cuda.manual_seed_all(SEED)\n",
        "    print(\"GPU Name: \",torch.cuda.get_device_name(0))"
      ],
      "execution_count": 6,
      "outputs": [
        {
          "output_type": "stream",
          "text": [
            "GPU Name:  Tesla T4\n"
          ],
          "name": "stdout"
        }
      ]
    },
    {
      "cell_type": "markdown",
      "metadata": {
        "id": "rUs44XRxqK1_",
        "colab_type": "text"
      },
      "source": [
        "##Importing Training, Validation and Testing Data. Converting to type tensor and generating custom PyTorch DataLoader\n"
      ]
    },
    {
      "cell_type": "code",
      "metadata": {
        "id": "N4RbSDXgvIAp",
        "colab_type": "code",
        "outputId": "bcab220f-750a-4015-9c85-f090e7925a86",
        "colab": {
          "base_uri": "https://localhost:8080/",
          "height": 187
        }
      },
      "source": [
        "train_dataset = dsets.MNIST(root='./data',train=True,transform=transforms.ToTensor(),download=True)\n",
        "test_dataset = dsets.MNIST(root='./data',transform=transforms.ToTensor(),train=False)\n",
        "test_inputs,validation_inputs,test_labels,validation_labels = train_test_split(test_dataset.data,\n",
        "                                                                                 test_dataset.targets,\n",
        "                                                                                 random_state=SEED,\n",
        "                                                                                 test_size=0.5,\n",
        "                                                                                 stratify = test_dataset.targets\n",
        "                                                                                 )\n",
        "\n",
        "print('test_inputs: ',len(test_inputs))\n",
        "print('validation_inputs: ',len(validation_inputs))\n",
        "print('test_labels: ',len(test_labels))\n",
        "print('validation_labels: ',len(validation_labels))\n",
        "\n",
        "# convert all our data into torch tensors, required data type for our model\n",
        "test_inputs = test_inputs.type(torch.float)\n",
        "validation_inputs = validation_inputs.type(torch.float)\n",
        "\n",
        "print(\"train dataset size: \",train_dataset.data.size())\n",
        "print(\"validation dataset size: \",validation_inputs.data.size())\n",
        "print(\"test dataset size: \",test_inputs.data.size())\n",
        "print(\"\\n<\"+\"=\"*50+\">\\n\")\n",
        "\n",
        "batch_size=100\n",
        "n_iters = 3000\n",
        "num_epochs = int(n_iters/(len(train_dataset)/batch_size))\n",
        "\n",
        "train_loader = torch.utils.data.DataLoader(train_dataset,batch_size=batch_size)\n",
        "validation_data = torch.utils.data.TensorDataset(validation_inputs,validation_labels)\n",
        "validation_loader = torch.utils.data.DataLoader(validation_data,batch_size=batch_size)\n",
        "test_data = torch.utils.data.TensorDataset(test_inputs,test_labels)\n",
        "test_loader = torch.utils.data.DataLoader(test_data,batch_size=batch_size)"
      ],
      "execution_count": 7,
      "outputs": [
        {
          "output_type": "stream",
          "text": [
            "test_inputs:  5000\n",
            "validation_inputs:  5000\n",
            "test_labels:  5000\n",
            "validation_labels:  5000\n",
            "train dataset size:  torch.Size([60000, 28, 28])\n",
            "validation dataset size:  torch.Size([5000, 28, 28])\n",
            "test dataset size:  torch.Size([5000, 28, 28])\n",
            "\n",
            "<==================================================>\n",
            "\n"
          ],
          "name": "stdout"
        }
      ]
    },
    {
      "cell_type": "markdown",
      "metadata": {
        "id": "kuwhewvmqs0f",
        "colab_type": "text"
      },
      "source": [
        "## Creating Convolutional Neural Network using PyTorch"
      ]
    },
    {
      "cell_type": "code",
      "metadata": {
        "id": "xXhnbnKVqrvG",
        "colab_type": "code",
        "colab": {}
      },
      "source": [
        "class NeuralNetwork(nn.Module):\n",
        "  def __init__(self):\n",
        "    super(NeuralNetwork,self).__init__()\n",
        "    # 1 input channel, 6 output channel, 3X3 square convolution\n",
        "    #Convolution 1\n",
        "    self.conv1 = nn.Conv2d(in_channels=1,out_channels=16,kernel_size=5,stride=1,padding=2)\n",
        "    self.relu1= nn.ReLU()\n",
        "\n",
        "    #max pool\n",
        "    self.maxpool1=nn.MaxPool2d(kernel_size=2)\n",
        "\n",
        "    #Convolution 1\n",
        "    self.conv2 = nn.Conv2d(in_channels=16,out_channels=32,kernel_size=5,stride=1,padding=2)\n",
        "    self.relu2= nn.ReLU()\n",
        "\n",
        "    #max pool\n",
        "    self.maxpool2=nn.MaxPool2d(kernel_size=2)\n",
        "\n",
        "    # Fully connected 1 (readout)\n",
        "    self.fc1 = nn.Linear(32 * 7 * 7, 10)\n",
        "\n",
        "  def forward(self, x):\n",
        "    #conv1\n",
        "    out = self.conv1(x)\n",
        "    out = self.relu1(out)\n",
        "\n",
        "    #maxpool1\n",
        "    out = self.maxpool1(out)\n",
        "    \n",
        "    #conv2\n",
        "    out = self.conv2(out)\n",
        "    out = self.relu2(out)\n",
        "\n",
        "    #maxpool2\n",
        "    out = self.maxpool2(out)\n",
        "\n",
        "    # Resize\n",
        "    # Original size: (100, 32, 7, 7)\n",
        "    # out.size(0): 100\n",
        "    # New out size: (100, 32*7*7)\n",
        "    # print(\"out size: \",out.size())\n",
        "    out = out.view(out.size(0), -1)\n",
        "\n",
        "    # Linear function (readout)\n",
        "    out = self.fc1(out)\n",
        "    return out"
      ],
      "execution_count": 0,
      "outputs": []
    },
    {
      "cell_type": "markdown",
      "metadata": {
        "id": "H1ivSVTNraUX",
        "colab_type": "text"
      },
      "source": [
        "## Train Model Funciton"
      ]
    },
    {
      "cell_type": "code",
      "metadata": {
        "id": "fpQ5MNZlobC3",
        "colab_type": "code",
        "colab": {}
      },
      "source": [
        "def train_model(model,train_loader,validation_loader,num_epochs,optimizer,criterion,lr=1e-3):\n",
        "  model = model.cuda() if torch.cuda.is_available() else model\n",
        "  model.train()\n",
        "  optimizer = optimizer  \n",
        "  iter = 0\n",
        "  for epoch in range(num_epochs):\n",
        "      for i,(images, labels) in enumerate(train_loader): #(images, labels)\n",
        "\n",
        "          images = images.to(device)\n",
        "          labels = labels.to(device)\n",
        "          \n",
        "          # Load images\n",
        "          images = images.requires_grad_()\n",
        "          #print(images.shape)\n",
        "          # Clear gradients w.r.t. parameters\n",
        "          optimizer.zero_grad()\n",
        "\n",
        "          # Forward pass to get output/logits\n",
        "          outputs = model(images)\n",
        "\n",
        "          # Calculate Loss: softmax --> cross entropy loss\n",
        "          loss = criterion(outputs, labels)\n",
        "\n",
        "          # Getting gradients w.r.t. parameters\n",
        "          loss.backward()\n",
        "\n",
        "          # Updating parameters\n",
        "          optimizer.step()\n",
        "\n",
        "          iter += 1\n",
        "\n",
        "          if iter % 500 == 0:              \n",
        "              print(\" Training Loss: {}\".format(loss))\n",
        "              test_model(model=model,test_loader=validation_loader)"
      ],
      "execution_count": 0,
      "outputs": []
    },
    {
      "cell_type": "markdown",
      "metadata": {
        "id": "8DESaKaPreoG",
        "colab_type": "text"
      },
      "source": [
        "## Test Model Function"
      ]
    },
    {
      "cell_type": "code",
      "metadata": {
        "id": "W51xeEPoxKPQ",
        "colab_type": "code",
        "colab": {}
      },
      "source": [
        "def test_model(model,test_loader):\n",
        "  # Calculate Accuracy         \n",
        "  correct = 0\n",
        "  total = 0\n",
        "  model.eval()\n",
        "  # Iterate through test dataset\n",
        "  for batch in test_loader:\n",
        "      \n",
        "      # Add batch to GPU\n",
        "      batch = tuple(t.to(device) for t in batch)\n",
        "      # Unpack the inputs from our dataloader\n",
        "      images, labels = batch\n",
        "\n",
        "      # Load images\n",
        "      images = images.requires_grad_().unsqueeze(1)\n",
        "\n",
        "      # Forward pass only to get logits/output\n",
        "      outputs = model(images)\n",
        "\n",
        "      # Get predictions from the maximum value\n",
        "      _, predicted = torch.max(outputs.data, 1)\n",
        "      \n",
        "      # Total number of labels\n",
        "      total += labels.size(0)\n",
        "\n",
        "      # Total correct predictions\n",
        "      correct += (predicted == labels).sum()\n",
        "      \n",
        "  accuracy = 100 * correct / total\n",
        "\n",
        "  # Print Loss\n",
        "  print('Total count: ',total)\n",
        "  print('Total correct: ',correct.cpu().numpy())\n",
        "  for param_group in optimizer.param_groups:\n",
        "    print(\"Learning Rate: \",param_group['lr'])\n",
        "  print('Accuracy: {}'.format(accuracy))          "
      ],
      "execution_count": 0,
      "outputs": []
    },
    {
      "cell_type": "markdown",
      "metadata": {
        "id": "eO0tGyEPriEB",
        "colab_type": "text"
      },
      "source": [
        "## Putting everything together"
      ]
    },
    {
      "cell_type": "code",
      "metadata": {
        "colab_type": "code",
        "outputId": "299235c8-de24-4998-fcca-64b1721b7e0b",
        "id": "Kn05UYIhmvXP",
        "colab": {
          "base_uri": "https://localhost:8080/",
          "height": 697
        }
      },
      "source": [
        "learning_rate=1e-3\n",
        "model = NeuralNetwork()\n",
        "optimizer=torch.optim.AdamW(model.parameters(), lr=learning_rate)\n",
        "criterion = nn.CrossEntropyLoss()\n",
        "print(\"\\n<\"+\"=\"*25+\"Training Model\"+\"=\"*25+\">\\n\")\n",
        "train_model(model=model,train_loader=train_loader,validation_loader=validation_loader,num_epochs=num_epochs,optimizer=optimizer,criterion=criterion,lr=learning_rate)\n",
        "print(\"\\n<\"+\"=\"*25+\"Testing Model\"+\"=\"*25+\">\\n\")\n",
        "test_model(model=model,test_loader=test_loader)"
      ],
      "execution_count": 11,
      "outputs": [
        {
          "output_type": "stream",
          "text": [
            "\n",
            "<=========================Training Model=========================>\n",
            "\n",
            " Training Loss: 0.1401251256465912\n",
            "Total count:  5000\n",
            "Total correct:  4858\n",
            "Learning Rate:  0.001\n",
            "Accuracy: 97\n",
            " Training Loss: 0.04576839506626129\n",
            "Total count:  5000\n",
            "Total correct:  4897\n",
            "Learning Rate:  0.001\n",
            "Accuracy: 97\n",
            " Training Loss: 0.0705842524766922\n",
            "Total count:  5000\n",
            "Total correct:  4914\n",
            "Learning Rate:  0.001\n",
            "Accuracy: 98\n",
            " Training Loss: 0.015429851599037647\n",
            "Total count:  5000\n",
            "Total correct:  4919\n",
            "Learning Rate:  0.001\n",
            "Accuracy: 98\n",
            " Training Loss: 0.007918883115053177\n",
            "Total count:  5000\n",
            "Total correct:  4935\n",
            "Learning Rate:  0.001\n",
            "Accuracy: 98\n",
            " Training Loss: 0.25593048334121704\n",
            "Total count:  5000\n",
            "Total correct:  4945\n",
            "Learning Rate:  0.001\n",
            "Accuracy: 98\n",
            "\n",
            "<=========================Testing Model=========================>\n",
            "\n",
            "Total count:  5000\n",
            "Total correct:  4918\n",
            "Learning Rate:  0.001\n",
            "Accuracy: 98\n"
          ],
          "name": "stdout"
        }
      ]
    }
  ]
}