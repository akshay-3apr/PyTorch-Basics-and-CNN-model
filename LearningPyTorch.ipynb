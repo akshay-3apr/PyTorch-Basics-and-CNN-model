{
  "nbformat": 4,
  "nbformat_minor": 0,
  "metadata": {
    "colab": {
      "name": "LearningPyTorch.ipynb",
      "provenance": [],
      "collapsed_sections": [
        "Jo8vJjWY6cWf"
      ]
    },
    "kernelspec": {
      "name": "python3",
      "display_name": "Python 3"
    },
    "accelerator": "GPU"
  },
  "cells": [
    {
      "cell_type": "markdown",
      "metadata": {
        "id": "Jo8vJjWY6cWf",
        "colab_type": "text"
      },
      "source": [
        "# Torch Basics"
      ]
    },
    {
      "cell_type": "code",
      "metadata": {
        "id": "EzniP-3jnFn0",
        "colab_type": "code",
        "outputId": "2e3d70f1-4059-40dc-cc65-be1d4ae3dc44",
        "colab": {
          "base_uri": "https://localhost:8080/",
          "height": 1000
        }
      },
      "source": [
        "import torch\n",
        "\n",
        "#Construct a empty matrix, uninitialized\n",
        "x = torch.empty(5,3)\n",
        "print(\"Empty Tensor: \",x)\n",
        "print(\"\\n<\"+\"=\"*50+\">\\n\")\n",
        "\n",
        "x = torch.rand(5,3)\n",
        "print(\"Random Initialized Tensor: \",x)\n",
        "print(\"\\n<\"+\"=\"*50+\">\\n\")\n",
        "\n",
        "x = torch.zeros(5,3,dtype=torch.long)\n",
        "print(\"Tensor Initialized with Zeros: \",x)\n",
        "print(\"\\n<\"+\"=\"*50+\">\\n\")\n",
        "\n",
        "x=torch.tensor([5.5,3],dtype=torch.long)\n",
        "print(\"Create tensor from data: \",x)\n",
        "print(\"\\n<\"+\"=\"*50+\">\\n\")\n",
        "\n",
        "x=x.new_ones(5,3,dtype=torch.double)\n",
        "print('create a tensor based on existing tensor: ',x)\n",
        "x=torch.randn_like(x,dtype=torch.float)\n",
        "print('Create a random like tensor from exisitng tensor. x:',x)\n",
        "print(\"\\n<\"+\"=\"*50+\">\\n\")\n",
        "\n",
        "#size of tensor\n",
        "print(\"Size of tensor: \",x.size())\n",
        "print(\"\\n<\"+\"=\"*50+\">\\n\")\n",
        "\n",
        "#addition of two matrices\n",
        "x=torch.rand(5,3)\n",
        "y=torch.rand(5,3)\n",
        "print(\"Addition of tensor: \")\n",
        "print(\"1st tensor: \",x)\n",
        "print(\"2nd tensor: \",y)\n",
        "print('x+y: ',x+y)\n",
        "print(\"\\n<\"+\"=\"*50+\">\\n\")\n",
        "\n",
        "#converting tensor to numpy array\n",
        "print(\"After converting tensor x to numpy: \",x.numpy())\n",
        "print(\"X does not change: \",x)\n",
        "print(\"\\n<\"+\"=\"*50+\">\\n\")\n",
        "\n",
        "#converting numpy array to torch tensor\n",
        "import numpy as np\n",
        "a = np.ones(5)\n",
        "print(\"before converting a: \",a)\n",
        "b=torch.from_numpy(a)\n",
        "print(\"after converting a to tensor b: \",b)\n",
        "np.add(a,1,out=a)\n",
        "print(\"After addition a is: \",a)\n",
        "print(\"After addition of a, b also changes: \",a)\n",
        "print(\"\\n<\"+\"=\"*50+\">\\n\")"
      ],
      "execution_count": 1,
      "outputs": [
        {
          "output_type": "stream",
          "text": [
            "Empty Tensor:  tensor([[1.4244e-36, 0.0000e+00, 0.0000e+00],\n",
            "        [0.0000e+00, 0.0000e+00, 0.0000e+00],\n",
            "        [0.0000e+00, 0.0000e+00, 2.8026e-45],\n",
            "        [0.0000e+00, 1.1210e-44, 0.0000e+00],\n",
            "        [1.4013e-45, 0.0000e+00, 1.0643e+15]])\n",
            "\n",
            "<==================================================>\n",
            "\n",
            "Random Initialized Tensor:  tensor([[0.8536, 0.6576, 0.8152],\n",
            "        [0.8994, 0.2075, 0.1426],\n",
            "        [0.8389, 0.3819, 0.7531],\n",
            "        [0.4298, 0.0935, 0.5189],\n",
            "        [0.9103, 0.1960, 0.0477]])\n",
            "\n",
            "<==================================================>\n",
            "\n",
            "Tensor Initialized with Zeros:  tensor([[0, 0, 0],\n",
            "        [0, 0, 0],\n",
            "        [0, 0, 0],\n",
            "        [0, 0, 0],\n",
            "        [0, 0, 0]])\n",
            "\n",
            "<==================================================>\n",
            "\n",
            "Create tensor from data:  tensor([5, 3])\n",
            "\n",
            "<==================================================>\n",
            "\n",
            "create a tensor based on existing tensor:  tensor([[1., 1., 1.],\n",
            "        [1., 1., 1.],\n",
            "        [1., 1., 1.],\n",
            "        [1., 1., 1.],\n",
            "        [1., 1., 1.]], dtype=torch.float64)\n",
            "Create a random like tensor from exisitng tensor. x: tensor([[ 0.2837, -0.8725, -1.2388],\n",
            "        [ 1.5744,  0.2161, -0.0248],\n",
            "        [-1.1579, -0.3360,  0.8448],\n",
            "        [-1.5440, -0.4141, -0.4618],\n",
            "        [ 0.0371,  1.0200, -0.8501]])\n",
            "\n",
            "<==================================================>\n",
            "\n",
            "Size of tensor:  torch.Size([5, 3])\n",
            "\n",
            "<==================================================>\n",
            "\n",
            "Addition of tensor: \n",
            "1st tensor:  tensor([[0.2011, 0.1860, 0.1746],\n",
            "        [0.0269, 0.7579, 0.1991],\n",
            "        [0.9329, 0.4447, 0.1035],\n",
            "        [0.1447, 0.9108, 0.9446],\n",
            "        [0.2344, 0.9216, 0.2134]])\n",
            "2nd tensor:  tensor([[0.8527, 0.5730, 0.8463],\n",
            "        [0.7740, 0.7369, 0.4722],\n",
            "        [0.9686, 0.9784, 0.3648],\n",
            "        [0.9019, 0.3522, 0.3251],\n",
            "        [0.6104, 0.9412, 0.8496]])\n",
            "x+y:  tensor([[1.0538, 0.7590, 1.0209],\n",
            "        [0.8009, 1.4949, 0.6714],\n",
            "        [1.9015, 1.4231, 0.4683],\n",
            "        [1.0467, 1.2630, 1.2697],\n",
            "        [0.8448, 1.8628, 1.0629]])\n",
            "\n",
            "<==================================================>\n",
            "\n",
            "After converting tensor x to numpy:  [[0.20109361 0.1860236  0.17464525]\n",
            " [0.02690631 0.75794625 0.19913459]\n",
            " [0.932871   0.44468987 0.10347432]\n",
            " [0.14472288 0.91076475 0.9445553 ]\n",
            " [0.23438519 0.9215576  0.2133854 ]]\n",
            "X does not change:  tensor([[0.2011, 0.1860, 0.1746],\n",
            "        [0.0269, 0.7579, 0.1991],\n",
            "        [0.9329, 0.4447, 0.1035],\n",
            "        [0.1447, 0.9108, 0.9446],\n",
            "        [0.2344, 0.9216, 0.2134]])\n",
            "\n",
            "<==================================================>\n",
            "\n",
            "before converting a:  [1. 1. 1. 1. 1.]\n",
            "after converting a to tensor b:  tensor([1., 1., 1., 1., 1.], dtype=torch.float64)\n",
            "After addition a is:  [2. 2. 2. 2. 2.]\n",
            "After addition of a, b also changes:  [2. 2. 2. 2. 2.]\n",
            "\n",
            "<==================================================>\n",
            "\n"
          ],
          "name": "stdout"
        }
      ]
    },
    {
      "cell_type": "markdown",
      "metadata": {
        "id": "-9klk3u8F-X6",
        "colab_type": "text"
      },
      "source": [
        "## Check if CUDA is available"
      ]
    },
    {
      "cell_type": "code",
      "metadata": {
        "id": "Utz6X4DMIO5b",
        "colab_type": "code",
        "outputId": "7e737b41-ff82-4489-d0a8-1b2ab12b46f3",
        "colab": {
          "base_uri": "https://localhost:8080/",
          "height": 187
        }
      },
      "source": [
        "# let us run this cell only if CUDA is available\n",
        "# We will use ``torch.device`` objects to move tensors in and out of GPU\n",
        "if torch.cuda.is_available():\n",
        "    device = torch.device(\"cuda\")          # a CUDA device object\n",
        "    y = torch.ones_like(x, device=device)  # directly create a tensor on GPU\n",
        "    x = x.to(device)                       # or just use strings ``.to(\"cuda\")``\n",
        "    z = x + y\n",
        "    print(z)\n",
        "    print(z.to(\"cpu\", torch.double))       # ``.to`` can also change dtype together!"
      ],
      "execution_count": 2,
      "outputs": [
        {
          "output_type": "stream",
          "text": [
            "tensor([[1.2011, 1.1860, 1.1746],\n",
            "        [1.0269, 1.7579, 1.1991],\n",
            "        [1.9329, 1.4447, 1.1035],\n",
            "        [1.1447, 1.9108, 1.9446],\n",
            "        [1.2344, 1.9216, 1.2134]], device='cuda:0')\n",
            "tensor([[1.2011, 1.1860, 1.1746],\n",
            "        [1.0269, 1.7579, 1.1991],\n",
            "        [1.9329, 1.4447, 1.1035],\n",
            "        [1.1447, 1.9108, 1.9446],\n",
            "        [1.2344, 1.9216, 1.2134]], dtype=torch.float64)\n"
          ],
          "name": "stdout"
        }
      ]
    },
    {
      "cell_type": "markdown",
      "metadata": {
        "id": "y5aaN09dFsEl",
        "colab_type": "text"
      },
      "source": [
        "##Gradient Calculation:"
      ]
    },
    {
      "cell_type": "code",
      "metadata": {
        "id": "1La_JEK2FwFz",
        "colab_type": "code",
        "colab": {
          "base_uri": "https://localhost:8080/",
          "height": 34
        },
        "outputId": "da0eebf0-1c5e-40d2-d388-ab877865d1b5"
      },
      "source": [
        "import torch\n",
        "# Creating the graph\n",
        "# Only Tensors of floating point dtype can require gradi\n",
        "x = torch.tensor(1.0, requires_grad = True)\n",
        "z = x ** 3\n",
        "z.backward() #Computes the gradient \n",
        "print(\"Gradient Calculated: \",x.grad.data) #Prints '3' which is dz/dx "
      ],
      "execution_count": 3,
      "outputs": [
        {
          "output_type": "stream",
          "text": [
            "Gradient Calculated:  tensor(3.)\n"
          ],
          "name": "stdout"
        }
      ]
    },
    {
      "cell_type": "markdown",
      "metadata": {
        "id": "W8-cG7-j6W55",
        "colab_type": "text"
      },
      "source": [
        "# Implementing Neural Networks from scratch"
      ]
    },
    {
      "cell_type": "markdown",
      "metadata": {
        "id": "jti1MHnKpoCr",
        "colab_type": "text"
      },
      "source": [
        "##Importing Python and PyTorch Libraries"
      ]
    },
    {
      "cell_type": "code",
      "metadata": {
        "id": "nCwVRawUpg-F",
        "colab_type": "code",
        "colab": {}
      },
      "source": [
        "import torch\n",
        "import torch.nn as nn\n",
        "import torch.nn.functional as F\n",
        "import torchvision.transforms as transforms\n",
        "import torchvision.datasets as dsets\n",
        "from sklearn.model_selection import train_test_split\n",
        "import random\n",
        "import numpy as np\n",
        "import matplotlib.pyplot as plt\n",
        "import matplotlib.image as mpimg\n",
        "%matplotlib inline"
      ],
      "execution_count": 0,
      "outputs": []
    },
    {
      "cell_type": "markdown",
      "metadata": {
        "id": "dIejfKxxpv-t",
        "colab_type": "text"
      },
      "source": [
        "## identify and specify the GPU as the device\n"
      ]
    },
    {
      "cell_type": "code",
      "metadata": {
        "id": "1H9l26Ylpt6J",
        "colab_type": "code",
        "colab": {
          "base_uri": "https://localhost:8080/",
          "height": 34
        },
        "outputId": "7282a15a-0316-483b-9899-8b4f2ce52c1a"
      },
      "source": [
        "device = torch.device(\"cuda\" if torch.cuda.is_available() else \"cpu\")\n",
        "n_gpu = torch.cuda.device_count()\n",
        "\n",
        "SEED = 19\n",
        "\n",
        "random.seed(SEED)\n",
        "np.random.seed(SEED)\n",
        "torch.manual_seed(SEED)\n",
        "if device == torch.device(\"cuda\"):\n",
        "    torch.cuda.manual_seed_all(SEED)\n",
        "    print(\"GPU Name: \",torch.cuda.get_device_name(0))"
      ],
      "execution_count": 5,
      "outputs": [
        {
          "output_type": "stream",
          "text": [
            "GPU Name:  Tesla T4\n"
          ],
          "name": "stdout"
        }
      ]
    },
    {
      "cell_type": "markdown",
      "metadata": {
        "id": "rUs44XRxqK1_",
        "colab_type": "text"
      },
      "source": [
        "##Importing Training, Validation and Testing Data. Converting to type tensor and generating custom PyTorch DataLoader\n"
      ]
    },
    {
      "cell_type": "code",
      "metadata": {
        "id": "N4RbSDXgvIAp",
        "colab_type": "code",
        "outputId": "97273bad-6c11-49b6-824e-7706d13dd5f1",
        "colab": {
          "base_uri": "https://localhost:8080/",
          "height": 482
        }
      },
      "source": [
        "train_dataset = dsets.MNIST(root='./data',train=True,transform=transforms.ToTensor(),download=True)\n",
        "test_dataset = dsets.MNIST(root='./data',transform=transforms.ToTensor(),train=False)\n",
        "test_inputs,validation_inputs,test_labels,validation_labels = train_test_split(test_dataset.data,\n",
        "                                                                                 test_dataset.targets,\n",
        "                                                                                 random_state=SEED,\n",
        "                                                                                 test_size=0.5,\n",
        "                                                                                 stratify = test_dataset.targets\n",
        "                                                                                 )\n",
        "\n",
        "print('test_inputs: ',len(test_inputs))\n",
        "print('validation_inputs: ',len(validation_inputs))\n",
        "print('test_labels: ',len(test_labels))\n",
        "print('validation_labels: ',len(validation_labels))\n",
        "\n",
        "# convert all our data into torch tensors, required data type for our model\n",
        "test_inputs = test_inputs.type(torch.float)\n",
        "validation_inputs = validation_inputs.type(torch.float)\n",
        "\n",
        "print(\"train dataset size: \",train_dataset.data.size())\n",
        "print(\"validation dataset size: \",validation_inputs.data.size())\n",
        "print(\"test dataset size: \",test_inputs.data.size())\n",
        "\n",
        "\n",
        "batch_size=100\n",
        "n_iters = 3000\n",
        "num_epochs = int(n_iters/(len(train_dataset)/batch_size))\n",
        "\n",
        "train_loader = torch.utils.data.DataLoader(train_dataset,batch_size=batch_size)\n",
        "validation_data = torch.utils.data.TensorDataset(validation_inputs,validation_labels)\n",
        "validation_loader = torch.utils.data.DataLoader(validation_data,batch_size=batch_size)\n",
        "test_data = torch.utils.data.TensorDataset(test_inputs,test_labels)\n",
        "test_loader = torch.utils.data.DataLoader(test_data,batch_size=batch_size)\n",
        "\n",
        "# visualize some images\n",
        "\n",
        "print(\"\\n<\"+\"=\"*25+\"Visualize Images\"+\"=\"*25+\">\\n\")\n",
        "\n",
        "sample_loader = torch.utils.data.DataLoader(train_dataset, \n",
        "                                            batch_size=1, \n",
        "                                            shuffle=True)\n",
        "\n",
        "fig = plt.figure(figsize=(8, 6))\n",
        "for i,(j,k) in enumerate(sample_loader):\n",
        "  if(i>5):\n",
        "    break\n",
        "  ax = plt.subplot(3, 3, i+1)\n",
        "  ax.imshow(j.squeeze())\n",
        "  plt.tight_layout()\n",
        "  title = 'Label: {}'.format(k.cpu().numpy())\n",
        "  ax.set_title(title)\n",
        "\n",
        "plt.show()"
      ],
      "execution_count": 6,
      "outputs": [
        {
          "output_type": "stream",
          "text": [
            "test_inputs:  5000\n",
            "validation_inputs:  5000\n",
            "test_labels:  5000\n",
            "validation_labels:  5000\n",
            "train dataset size:  torch.Size([60000, 28, 28])\n",
            "validation dataset size:  torch.Size([5000, 28, 28])\n",
            "test dataset size:  torch.Size([5000, 28, 28])\n",
            "\n",
            "<=========================Visualize Images=========================>\n",
            "\n"
          ],
          "name": "stdout"
        },
        {
          "output_type": "display_data",
          "data": {
            "image/png": "[encoded data removed]",
            "text/plain": [
              "<Figure size 576x432 with 6 Axes>"
            ]
          },
          "metadata": {
            "tags": []
          }
        }
      ]
    },
    {
      "cell_type": "markdown",
      "metadata": {
        "id": "kuwhewvmqs0f",
        "colab_type": "text"
      },
      "source": [
        "## Creating Convolutional Neural Network using PyTorch"
      ]
    },
    {
      "cell_type": "code",
      "metadata": {
        "id": "xXhnbnKVqrvG",
        "colab_type": "code",
        "colab": {}
      },
      "source": [
        "class NeuralNetwork(nn.Module):\n",
        "  def __init__(self):\n",
        "    super(NeuralNetwork,self).__init__()\n",
        "    # 1 input channel, 6 output channel, 3X3 square convolution\n",
        "    #Convolution 1\n",
        "    self.conv1 = nn.Conv2d(in_channels=1,out_channels=16,kernel_size=5,stride=1,padding=2)\n",
        "    self.relu1= nn.ReLU()\n",
        "\n",
        "    #max pool\n",
        "    self.maxpool1=nn.MaxPool2d(kernel_size=2)\n",
        "\n",
        "    #Convolution 1\n",
        "    self.conv2 = nn.Conv2d(in_channels=16,out_channels=32,kernel_size=5,stride=1,padding=2)\n",
        "    self.relu2= nn.ReLU()\n",
        "\n",
        "    #max pool\n",
        "    self.maxpool2=nn.MaxPool2d(kernel_size=2)\n",
        "\n",
        "    # Fully connected 1 (readout)\n",
        "    self.fc1 = nn.Linear(32 * 7 * 7, 10)\n",
        "\n",
        "  def forward(self, x):\n",
        "    #conv1\n",
        "    out = self.conv1(x)\n",
        "    out = self.relu1(out)\n",
        "\n",
        "    #maxpool1\n",
        "    out = self.maxpool1(out)\n",
        "    \n",
        "    #conv2\n",
        "    out = self.conv2(out)\n",
        "    out = self.relu2(out)\n",
        "\n",
        "    #maxpool2\n",
        "    out = self.maxpool2(out)\n",
        "\n",
        "    # Resize\n",
        "    # Original size: (100, 32, 7, 7)\n",
        "    # out.size(0): 100\n",
        "    # New out size: (100, 32*7*7)\n",
        "    # print(\"out size: \",out.size())\n",
        "    out = out.view(out.size(0), -1)\n",
        "\n",
        "    # Linear function (readout)\n",
        "    out = self.fc1(out)\n",
        "    return out"
      ],
      "execution_count": 0,
      "outputs": []
    },
    {
      "cell_type": "markdown",
      "metadata": {
        "id": "H1ivSVTNraUX",
        "colab_type": "text"
      },
      "source": [
        "## Train Model Funciton"
      ]
    },
    {
      "cell_type": "code",
      "metadata": {
        "id": "fpQ5MNZlobC3",
        "colab_type": "code",
        "colab": {}
      },
      "source": [
        "def train_model(model,train_loader,validation_loader,num_epochs,optimizer,criterion,lr=1e-3):\n",
        "  model = model.cuda() if torch.cuda.is_available() else model\n",
        "  model.train()\n",
        "  optimizer = optimizer  \n",
        "  iter = 0\n",
        "  for epoch in range(num_epochs):\n",
        "      for i,(images, labels) in enumerate(train_loader): #(images, labels)\n",
        "\n",
        "          images = images.to(device)\n",
        "          labels = labels.to(device)\n",
        "          \n",
        "          # Load images\n",
        "          images = images.requires_grad_()\n",
        "          #print(images.shape)\n",
        "          # Clear gradients w.r.t. parameters\n",
        "          optimizer.zero_grad()\n",
        "\n",
        "          # Forward pass to get output/logits\n",
        "          outputs = model(images)\n",
        "\n",
        "          # Calculate Loss: softmax --> cross entropy loss\n",
        "          loss = criterion(outputs, labels)\n",
        "\n",
        "          # Getting gradients w.r.t. parameters\n",
        "          loss.backward()\n",
        "\n",
        "          # Updating parameters\n",
        "          optimizer.step()\n",
        "\n",
        "          iter += 1\n",
        "\n",
        "          if iter % 500 == 0:              \n",
        "              print(\" Training Loss: {}\".format(loss))\n",
        "              test_model(model=model,test_loader=validation_loader)"
      ],
      "execution_count": 0,
      "outputs": []
    },
    {
      "cell_type": "markdown",
      "metadata": {
        "id": "8DESaKaPreoG",
        "colab_type": "text"
      },
      "source": [
        "## Test Model Function"
      ]
    },
    {
      "cell_type": "code",
      "metadata": {
        "id": "W51xeEPoxKPQ",
        "colab_type": "code",
        "colab": {}
      },
      "source": [
        "def test_model(model,test_loader):\n",
        "  # Calculate Accuracy         \n",
        "  correct = 0\n",
        "  total = 0\n",
        "  model.eval()\n",
        "  # Iterate through test dataset\n",
        "  for batch in test_loader:\n",
        "      \n",
        "      # Add batch to GPU\n",
        "      batch = tuple(t.to(device) for t in batch)\n",
        "      # Unpack the inputs from our dataloader\n",
        "      images, labels = batch\n",
        "\n",
        "      # Load images\n",
        "      images = images.requires_grad_().unsqueeze(1)\n",
        "\n",
        "      # Forward pass only to get logits/output\n",
        "      outputs = model(images)\n",
        "\n",
        "      # Get predictions from the maximum value\n",
        "      _, predicted = torch.max(outputs.data, 1)\n",
        "      \n",
        "      # Total number of labels\n",
        "      total += labels.size(0)\n",
        "\n",
        "      # Total correct predictions\n",
        "      correct += (predicted == labels).sum()\n",
        "      \n",
        "  accuracy = 100 * correct / total\n",
        "\n",
        "  # Print Loss\n",
        "  print('Total count: ',total)\n",
        "  print('Total correct: ',correct.cpu().numpy())\n",
        "  for param_group in optimizer.param_groups:\n",
        "    print(\"Learning Rate: \",param_group['lr'])\n",
        "  print('Accuracy: {}'.format(accuracy))          "
      ],
      "execution_count": 0,
      "outputs": []
    },
    {
      "cell_type": "markdown",
      "metadata": {
        "id": "eO0tGyEPriEB",
        "colab_type": "text"
      },
      "source": [
        "## Putting everything together"
      ]
    },
    {
      "cell_type": "code",
      "metadata": {
        "colab_type": "code",
        "outputId": "00f24713-f974-43ce-8c73-36bfdc186453",
        "id": "Kn05UYIhmvXP",
        "colab": {
          "base_uri": "https://localhost:8080/",
          "height": 697
        }
      },
      "source": [
        "learning_rate=1e-3\n",
        "model = NeuralNetwork()\n",
        "optimizer=torch.optim.AdamW(model.parameters(), lr=learning_rate)\n",
        "criterion = nn.CrossEntropyLoss()\n",
        "print(\"\\n<\"+\"=\"*25+\"Training Model\"+\"=\"*25+\">\\n\")\n",
        "train_model(model=model,train_loader=train_loader,validation_loader=validation_loader,num_epochs=num_epochs,optimizer=optimizer,criterion=criterion,lr=learning_rate)\n",
        "print(\"\\n<\"+\"=\"*25+\"Testing Model\"+\"=\"*25+\">\\n\")\n",
        "test_model(model=model,test_loader=test_loader)"
      ],
      "execution_count": 10,
      "outputs": [
        {
          "output_type": "stream",
          "text": [
            "\n",
            "<=========================Training Model=========================>\n",
            "\n",
            " Training Loss: 0.1313277631998062\n",
            "Total count:  5000\n",
            "Total correct:  4860\n",
            "Learning Rate:  0.001\n",
            "Accuracy: 97\n",
            " Training Loss: 0.0429699532687664\n",
            "Total count:  5000\n",
            "Total correct:  4905\n",
            "Learning Rate:  0.001\n",
            "Accuracy: 98\n",
            " Training Loss: 0.04887785017490387\n",
            "Total count:  5000\n",
            "Total correct:  4913\n",
            "Learning Rate:  0.001\n",
            "Accuracy: 98\n",
            " Training Loss: 0.014993314631283283\n",
            "Total count:  5000\n",
            "Total correct:  4914\n",
            "Learning Rate:  0.001\n",
            "Accuracy: 98\n",
            " Training Loss: 0.006276171188801527\n",
            "Total count:  5000\n",
            "Total correct:  4946\n",
            "Learning Rate:  0.001\n",
            "Accuracy: 98\n",
            " Training Loss: 0.24145302176475525\n",
            "Total count:  5000\n",
            "Total correct:  4951\n",
            "Learning Rate:  0.001\n",
            "Accuracy: 99\n",
            "\n",
            "<=========================Testing Model=========================>\n",
            "\n",
            "Total count:  5000\n",
            "Total correct:  4940\n",
            "Learning Rate:  0.001\n",
            "Accuracy: 98\n"
          ],
          "name": "stdout"
        }
      ]
    }
  ]
}