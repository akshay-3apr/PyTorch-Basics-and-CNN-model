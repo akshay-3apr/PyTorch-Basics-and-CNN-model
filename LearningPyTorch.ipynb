{
  "nbformat": 4,
  "nbformat_minor": 0,
  "metadata": {
    "colab": {
      "name": "LearningPyTorch.ipynb",
      "provenance": [],
      "collapsed_sections": [
        "Jo8vJjWY6cWf"
      ]
    },
    "kernelspec": {
      "name": "python3",
      "display_name": "Python 3"
    },
    "accelerator": "GPU"
  },
  "cells": [
    {
      "cell_type": "markdown",
      "metadata": {
        "id": "Jo8vJjWY6cWf",
        "colab_type": "text"
      },
      "source": [
        "# Torch Basics"
      ]
    },
    {
      "cell_type": "code",
      "metadata": {
        "id": "EzniP-3jnFn0",
        "colab_type": "code",
        "outputId": "36be43de-0648-40f1-f607-7a4e6a843691",
        "colab": {
          "base_uri": "https://localhost:8080/",
          "height": 1000
        }
      },
      "source": [
        "import torch\n",
        "\n",
        "#Construct a empty matrix, uninitialized\n",
        "x = torch.empty(5,3)\n",
        "print(\"Empty Tensor: \",x)\n",
        "print(\"\\n<\"+\"=\"*50+\">\\n\")\n",
        "\n",
        "x = torch.rand(5,3)\n",
        "print(\"Random Initialized Tensor: \",x)\n",
        "print(\"\\n<\"+\"=\"*50+\">\\n\")\n",
        "\n",
        "x = torch.zeros(5,3,dtype=torch.long)\n",
        "print(\"Tensor Initialized with Zeros: \",x)\n",
        "print(\"\\n<\"+\"=\"*50+\">\\n\")\n",
        "\n",
        "x=torch.tensor([5.5,3],dtype=torch.long)\n",
        "print(\"Create tensor from data: \",x)\n",
        "print(\"\\n<\"+\"=\"*50+\">\\n\")\n",
        "\n",
        "x=x.new_ones(5,3,dtype=torch.double)\n",
        "print('create a tensor based on existing tensor: ',x)\n",
        "x=torch.randn_like(x,dtype=torch.float)\n",
        "print('Create a random like tensor from exisitng tensor. x:',x)\n",
        "print(\"\\n<\"+\"=\"*50+\">\\n\")\n",
        "\n",
        "#size of tensor\n",
        "print(\"Size of tensor: \",x.size())\n",
        "print(\"\\n<\"+\"=\"*50+\">\\n\")\n",
        "\n",
        "#addition of two matrices\n",
        "x=torch.rand(5,3)\n",
        "y=torch.rand(5,3)\n",
        "print(\"Addition of tensor: \")\n",
        "print(\"1st tensor: \",x)\n",
        "print(\"2nd tensor: \",y)\n",
        "print('x+y: ',x+y)\n",
        "print(\"\\n<\"+\"=\"*50+\">\\n\")\n",
        "\n",
        "#converting tensor to numpy array\n",
        "print(\"After converting tensor x to numpy: \",x.numpy())\n",
        "print(\"X does not change: \",x)\n",
        "print(\"\\n<\"+\"=\"*50+\">\\n\")\n",
        "\n",
        "#converting numpy array to torch tensor\n",
        "import numpy as np\n",
        "a = np.ones(5)\n",
        "print(\"before converting a: \",a)\n",
        "b=torch.from_numpy(a)\n",
        "print(\"after converting a to tensor b: \",b)\n",
        "np.add(a,1,out=a)\n",
        "print(\"After addition a is: \",a)\n",
        "print(\"After addition of a, b also changes: \",a)\n",
        "print(\"\\n<\"+\"=\"*50+\">\\n\")"
      ],
      "execution_count": 6,
      "outputs": [
        {
          "output_type": "stream",
          "text": [
            "Empty Tensor:  tensor([[2.3480e-36, 0.0000e+00, 4.4842e-44],\n",
            "        [0.0000e+00,        nan, 6.4460e-44],\n",
            "        [4.1495e-08, 6.4535e-10, 1.0258e-08],\n",
            "        [2.7179e-06, 4.2283e+21, 2.6563e+20],\n",
            "        [6.4898e-10, 3.3733e-06, 7.4820e-02]])\n",
            "\n",
            "<==================================================>\n",
            "\n",
            "Random Initialized Tensor:  tensor([[0.7198, 0.8702, 0.0149],\n",
            "        [0.2457, 0.7343, 0.9609],\n",
            "        [0.6677, 0.3331, 0.1746],\n",
            "        [0.5779, 0.7239, 0.6925],\n",
            "        [0.6230, 0.5066, 0.3922]])\n",
            "\n",
            "<==================================================>\n",
            "\n",
            "Tensor Initialized with Zeros:  tensor([[0, 0, 0],\n",
            "        [0, 0, 0],\n",
            "        [0, 0, 0],\n",
            "        [0, 0, 0],\n",
            "        [0, 0, 0]])\n",
            "\n",
            "<==================================================>\n",
            "\n",
            "Create tensor from data:  tensor([5, 3])\n",
            "\n",
            "<==================================================>\n",
            "\n",
            "create a tensor based on existing tensor:  tensor([[1., 1., 1.],\n",
            "        [1., 1., 1.],\n",
            "        [1., 1., 1.],\n",
            "        [1., 1., 1.],\n",
            "        [1., 1., 1.]], dtype=torch.float64)\n",
            "Create a random like tensor from exisitng tensor. x: tensor([[ 0.1839, -2.1905, -0.2373],\n",
            "        [ 0.2530,  0.0618, -0.4068],\n",
            "        [ 0.2994, -0.1634, -0.5412],\n",
            "        [-0.3679,  1.1560, -1.2502],\n",
            "        [-0.2781, -1.4795,  0.3340]])\n",
            "\n",
            "<==================================================>\n",
            "\n",
            "Size of tensor:  torch.Size([5, 3])\n",
            "\n",
            "<==================================================>\n",
            "\n",
            "Addition of tensor: \n",
            "1st tensor:  tensor([[0.1327, 0.0546, 0.3582],\n",
            "        [0.5882, 0.3436, 0.6444],\n",
            "        [0.3258, 0.8721, 0.2521],\n",
            "        [0.8274, 0.1951, 0.1603],\n",
            "        [0.5155, 0.2109, 0.2048]])\n",
            "2nd tensor:  tensor([[0.7298, 0.0421, 0.0165],\n",
            "        [0.9707, 0.0832, 0.8299],\n",
            "        [0.6989, 0.4109, 0.2422],\n",
            "        [0.0906, 0.7658, 0.6440],\n",
            "        [0.5798, 0.8011, 0.0152]])\n",
            "x+y:  tensor([[0.8626, 0.0967, 0.3747],\n",
            "        [1.5589, 0.4268, 1.4743],\n",
            "        [1.0248, 1.2830, 0.4943],\n",
            "        [0.9181, 0.9609, 0.8042],\n",
            "        [1.0952, 1.0121, 0.2200]])\n",
            "\n",
            "<==================================================>\n",
            "\n",
            "After converting tensor x to numpy:  [[0.13272947 0.05458146 0.35818154]\n",
            " [0.5882011  0.3436107  0.6443918 ]\n",
            " [0.32582766 0.8720508  0.25208962]\n",
            " [0.827445   0.19510674 0.16027951]\n",
            " [0.51545674 0.21093017 0.20479012]]\n",
            "X does not change:  tensor([[0.1327, 0.0546, 0.3582],\n",
            "        [0.5882, 0.3436, 0.6444],\n",
            "        [0.3258, 0.8721, 0.2521],\n",
            "        [0.8274, 0.1951, 0.1603],\n",
            "        [0.5155, 0.2109, 0.2048]])\n",
            "\n",
            "<==================================================>\n",
            "\n",
            "before converting a:  [1. 1. 1. 1. 1.]\n",
            "after converting a to tensor b:  tensor([1., 1., 1., 1., 1.], dtype=torch.float64)\n",
            "After addition a is:  [2. 2. 2. 2. 2.]\n",
            "After addition of a, b also changes:  [2. 2. 2. 2. 2.]\n",
            "\n",
            "<==================================================>\n",
            "\n"
          ],
          "name": "stdout"
        }
      ]
    },
    {
      "cell_type": "markdown",
      "metadata": {
        "id": "-9klk3u8F-X6",
        "colab_type": "text"
      },
      "source": [
        "## Check if CUDA is available"
      ]
    },
    {
      "cell_type": "code",
      "metadata": {
        "id": "Utz6X4DMIO5b",
        "colab_type": "code",
        "outputId": "0821cd9d-abd2-48ec-984e-3b9cee81c0af",
        "colab": {
          "base_uri": "https://localhost:8080/",
          "height": 187
        }
      },
      "source": [
        "# let us run this cell only if CUDA is available\n",
        "# We will use ``torch.device`` objects to move tensors in and out of GPU\n",
        "if torch.cuda.is_available():\n",
        "    device = torch.device(\"cuda\")          # a CUDA device object\n",
        "    y = torch.ones_like(x, device=device)  # directly create a tensor on GPU\n",
        "    x = x.to(device)                       # or just use strings ``.to(\"cuda\")``\n",
        "    z = x + y\n",
        "    print(z)\n",
        "    print(z.to(\"cpu\", torch.double))       # ``.to`` can also change dtype together!"
      ],
      "execution_count": 7,
      "outputs": [
        {
          "output_type": "stream",
          "text": [
            "tensor([[1.1327, 1.0546, 1.3582],\n",
            "        [1.5882, 1.3436, 1.6444],\n",
            "        [1.3258, 1.8721, 1.2521],\n",
            "        [1.8274, 1.1951, 1.1603],\n",
            "        [1.5155, 1.2109, 1.2048]], device='cuda:0')\n",
            "tensor([[1.1327, 1.0546, 1.3582],\n",
            "        [1.5882, 1.3436, 1.6444],\n",
            "        [1.3258, 1.8721, 1.2521],\n",
            "        [1.8274, 1.1951, 1.1603],\n",
            "        [1.5155, 1.2109, 1.2048]], dtype=torch.float64)\n"
          ],
          "name": "stdout"
        }
      ]
    },
    {
      "cell_type": "markdown",
      "metadata": {
        "id": "y5aaN09dFsEl",
        "colab_type": "text"
      },
      "source": [
        "##Gradient Calculation:"
      ]
    },
    {
      "cell_type": "code",
      "metadata": {
        "id": "1La_JEK2FwFz",
        "colab_type": "code",
        "colab": {
          "base_uri": "https://localhost:8080/",
          "height": 34
        },
        "outputId": "83732ed4-025c-43fa-f07f-d135bf0efc73"
      },
      "source": [
        "import torch\n",
        "# Creating the graph\n",
        "# Only Tensors of floating point dtype can require gradi\n",
        "x = torch.tensor(1.0, requires_grad = True)\n",
        "z = x ** 3\n",
        "z.backward() #Computes the gradient \n",
        "print(\"Gradient Calculated: \",x.grad.data) #Prints '3' which is dz/dx "
      ],
      "execution_count": 8,
      "outputs": [
        {
          "output_type": "stream",
          "text": [
            "Gradient Calculated:  tensor(3.)\n"
          ],
          "name": "stdout"
        }
      ]
    },
    {
      "cell_type": "markdown",
      "metadata": {
        "id": "W8-cG7-j6W55",
        "colab_type": "text"
      },
      "source": [
        "# Implementing Neural Networks from scratch"
      ]
    },
    {
      "cell_type": "markdown",
      "metadata": {
        "id": "jti1MHnKpoCr",
        "colab_type": "text"
      },
      "source": [
        "##Importing Python and PyTorch Libraries"
      ]
    },
    {
      "cell_type": "code",
      "metadata": {
        "id": "nCwVRawUpg-F",
        "colab_type": "code",
        "colab": {}
      },
      "source": [
        "import torch\n",
        "import torch.nn as nn\n",
        "import torch.nn.functional as F\n",
        "import torchvision.transforms as transforms\n",
        "import torchvision.datasets as dsets\n",
        "from sklearn.model_selection import train_test_split\n",
        "import random\n",
        "import numpy as np\n",
        "import matplotlib.pyplot as plt\n",
        "import matplotlib.image as mpimg\n",
        "%matplotlib inline"
      ],
      "execution_count": 0,
      "outputs": []
    },
    {
      "cell_type": "markdown",
      "metadata": {
        "id": "dIejfKxxpv-t",
        "colab_type": "text"
      },
      "source": [
        "## identify and specify the GPU as the device\n"
      ]
    },
    {
      "cell_type": "code",
      "metadata": {
        "id": "1H9l26Ylpt6J",
        "colab_type": "code",
        "colab": {
          "base_uri": "https://localhost:8080/",
          "height": 34
        },
        "outputId": "8fb2a265-1ee6-412f-eb39-a1f61fcb755b"
      },
      "source": [
        "device = torch.device(\"cuda\" if torch.cuda.is_available() else \"cpu\")\n",
        "n_gpu = torch.cuda.device_count()\n",
        "\n",
        "SEED = 19\n",
        "\n",
        "random.seed(SEED)\n",
        "np.random.seed(SEED)\n",
        "torch.manual_seed(SEED)\n",
        "if device == torch.device(\"cuda\"):\n",
        "    torch.cuda.manual_seed_all(SEED)\n",
        "    print(\"GPU Name: \",torch.cuda.get_device_name(0))"
      ],
      "execution_count": 10,
      "outputs": [
        {
          "output_type": "stream",
          "text": [
            "GPU Name:  Tesla T4\n"
          ],
          "name": "stdout"
        }
      ]
    },
    {
      "cell_type": "markdown",
      "metadata": {
        "id": "rUs44XRxqK1_",
        "colab_type": "text"
      },
      "source": [
        "##Importing Training, Validation and Testing Data. Converting to type tensor and generating custom PyTorch DataLoader\n"
      ]
    },
    {
      "cell_type": "code",
      "metadata": {
        "id": "N4RbSDXgvIAp",
        "colab_type": "code",
        "outputId": "e1bdf0a8-c3b5-453f-a1cf-25e80b843ceb",
        "colab": {
          "base_uri": "https://localhost:8080/",
          "height": 425
        }
      },
      "source": [
        "train_dataset = dsets.MNIST(root='./data',train=True,transform=transforms.ToTensor(),download=True)\n",
        "test_dataset = dsets.MNIST(root='./data',transform=transforms.ToTensor(),train=False)\n",
        "test_inputs,validation_inputs,test_labels,validation_labels = train_test_split(test_dataset.data,\n",
        "                                                                                 test_dataset.targets,\n",
        "                                                                                 random_state=SEED,\n",
        "                                                                                 test_size=0.5,\n",
        "                                                                                 stratify = test_dataset.targets\n",
        "                                                                                 )\n",
        "\n",
        "print('test_inputs: ',len(test_inputs))\n",
        "print('validation_inputs: ',len(validation_inputs))\n",
        "print('test_labels: ',len(test_labels))\n",
        "print('validation_labels: ',len(validation_labels))\n",
        "\n",
        "# convert all our data into torch tensors, required data type for our model\n",
        "test_inputs = test_inputs.type(torch.float)\n",
        "validation_inputs = validation_inputs.type(torch.float)\n",
        "\n",
        "print(\"train dataset size: \",train_dataset.data.size())\n",
        "print(\"validation dataset size: \",validation_inputs.data.size())\n",
        "print(\"test dataset size: \",test_inputs.data.size())\n",
        "print(\"\\n<\"+\"=\"*100+\">\\n\")\n",
        "\n",
        "batch_size=100\n",
        "n_iters = 3000\n",
        "num_epochs = int(n_iters/(len(train_dataset)/batch_size))\n",
        "\n",
        "train_loader = torch.utils.data.DataLoader(train_dataset,batch_size=batch_size)\n",
        "validation_data = torch.utils.data.TensorDataset(validation_inputs,validation_labels)\n",
        "validation_loader = torch.utils.data.DataLoader(validation_data,batch_size=batch_size)\n",
        "test_data = torch.utils.data.TensorDataset(test_inputs,test_labels)\n",
        "test_loader = torch.utils.data.DataLoader(test_data,batch_size=batch_size)"
      ],
      "execution_count": 11,
      "outputs": [
        {
          "output_type": "stream",
          "text": [
            "\r0it [00:00, ?it/s]"
          ],
          "name": "stderr"
        },
        {
          "output_type": "stream",
          "text": [
            "Downloading http://yann.lecun.com/exdb/mnist/train-images-idx3-ubyte.gz to ./data/MNIST/raw/train-images-idx3-ubyte.gz\n"
          ],
          "name": "stdout"
        },
        {
          "output_type": "stream",
          "text": [
            "9920512it [00:07, 1254540.12it/s]                            \n"
          ],
          "name": "stderr"
        },
        {
          "output_type": "stream",
          "text": [
            "Extracting ./data/MNIST/raw/train-images-idx3-ubyte.gz to ./data/MNIST/raw\n"
          ],
          "name": "stdout"
        },
        {
          "output_type": "stream",
          "text": [
            "\r0it [00:00, ?it/s]"
          ],
          "name": "stderr"
        },
        {
          "output_type": "stream",
          "text": [
            "Downloading http://yann.lecun.com/exdb/mnist/train-labels-idx1-ubyte.gz to ./data/MNIST/raw/train-labels-idx1-ubyte.gz\n"
          ],
          "name": "stdout"
        },
        {
          "output_type": "stream",
          "text": [
            "32768it [00:00, 49161.44it/s]                           \n",
            "0it [00:00, ?it/s]"
          ],
          "name": "stderr"
        },
        {
          "output_type": "stream",
          "text": [
            "Extracting ./data/MNIST/raw/train-labels-idx1-ubyte.gz to ./data/MNIST/raw\n",
            "Downloading http://yann.lecun.com/exdb/mnist/t10k-images-idx3-ubyte.gz to ./data/MNIST/raw/t10k-images-idx3-ubyte.gz\n"
          ],
          "name": "stdout"
        },
        {
          "output_type": "stream",
          "text": [
            "1654784it [00:02, 817337.28it/s]                             \n",
            "0it [00:00, ?it/s]"
          ],
          "name": "stderr"
        },
        {
          "output_type": "stream",
          "text": [
            "Extracting ./data/MNIST/raw/t10k-images-idx3-ubyte.gz to ./data/MNIST/raw\n",
            "Downloading http://yann.lecun.com/exdb/mnist/t10k-labels-idx1-ubyte.gz to ./data/MNIST/raw/t10k-labels-idx1-ubyte.gz\n"
          ],
          "name": "stdout"
        },
        {
          "output_type": "stream",
          "text": [
            "8192it [00:00, 18558.61it/s]            "
          ],
          "name": "stderr"
        },
        {
          "output_type": "stream",
          "text": [
            "Extracting ./data/MNIST/raw/t10k-labels-idx1-ubyte.gz to ./data/MNIST/raw\n",
            "Processing...\n",
            "Done!\n",
            "test_inputs:  5000\n",
            "validation_inputs:  5000\n",
            "test_labels:  5000\n",
            "validation_labels:  5000\n",
            "train dataset size:  torch.Size([60000, 28, 28])\n",
            "validation dataset size:  torch.Size([5000, 28, 28])\n",
            "test dataset size:  torch.Size([5000, 28, 28])\n",
            "\n",
            "<====================================================================================================>\n",
            "\n"
          ],
          "name": "stdout"
        },
        {
          "output_type": "stream",
          "text": [
            "\n"
          ],
          "name": "stderr"
        }
      ]
    },
    {
      "cell_type": "markdown",
      "metadata": {
        "id": "kuwhewvmqs0f",
        "colab_type": "text"
      },
      "source": [
        "## Creating Convolutional Neural Network using PyTorch"
      ]
    },
    {
      "cell_type": "code",
      "metadata": {
        "id": "xXhnbnKVqrvG",
        "colab_type": "code",
        "colab": {}
      },
      "source": [
        "class NeuralNetwork(nn.Module):\n",
        "  def __init__(self):\n",
        "    super(NeuralNetwork,self).__init__()\n",
        "    # 1 input channel, 6 output channel, 3X3 square convolution\n",
        "    #Convolution 1\n",
        "    self.conv1 = nn.Conv2d(in_channels=1,out_channels=16,kernel_size=5,stride=1,padding=2)\n",
        "    self.relu1= nn.ReLU()\n",
        "\n",
        "    #max pool\n",
        "    self.maxpool1=nn.MaxPool2d(kernel_size=2)\n",
        "\n",
        "    #Convolution 1\n",
        "    self.conv2 = nn.Conv2d(in_channels=16,out_channels=32,kernel_size=5,stride=1,padding=2)\n",
        "    self.relu2= nn.ReLU()\n",
        "\n",
        "    #max pool\n",
        "    self.maxpool2=nn.MaxPool2d(kernel_size=2)\n",
        "\n",
        "    # Fully connected 1 (readout)\n",
        "    self.fc1 = nn.Linear(32 * 7 * 7, 10)\n",
        "\n",
        "  def forward(self, x):\n",
        "    #conv1\n",
        "    out = self.conv1(x)\n",
        "    out = self.relu1(out)\n",
        "\n",
        "    #maxpool1\n",
        "    out = self.maxpool1(out)\n",
        "    \n",
        "    #conv2\n",
        "    out = self.conv2(out)\n",
        "    out = self.relu2(out)\n",
        "\n",
        "    #maxpool2\n",
        "    out = self.maxpool2(out)\n",
        "\n",
        "    # Resize\n",
        "    # Original size: (100, 32, 7, 7)\n",
        "    # out.size(0): 100\n",
        "    # New out size: (100, 32*7*7)\n",
        "    # print(\"out size: \",out.size())\n",
        "    out = out.view(out.size(0), -1)\n",
        "\n",
        "    # Linear function (readout)\n",
        "    out = self.fc1(out)\n",
        "    return out"
      ],
      "execution_count": 0,
      "outputs": []
    },
    {
      "cell_type": "markdown",
      "metadata": {
        "id": "H1ivSVTNraUX",
        "colab_type": "text"
      },
      "source": [
        "## Train Model Funciton"
      ]
    },
    {
      "cell_type": "code",
      "metadata": {
        "id": "fpQ5MNZlobC3",
        "colab_type": "code",
        "colab": {}
      },
      "source": [
        "def train_model(model,train_loader,validation_loader,num_epochs,optimizer,criterion,lr=1e-3):\n",
        "  model = model.cuda() if torch.cuda.is_available() else model\n",
        "  model.train()\n",
        "  optimizer = optimizer  \n",
        "  iter = 0\n",
        "  for epoch in range(num_epochs):\n",
        "      for i,(images, labels) in enumerate(train_loader): #(images, labels)\n",
        "\n",
        "          images = images.to(device)\n",
        "          labels = labels.to(device)\n",
        "          \n",
        "          # Load images\n",
        "          images = images.requires_grad_()\n",
        "          #print(images.shape)\n",
        "          # Clear gradients w.r.t. parameters\n",
        "          optimizer.zero_grad()\n",
        "\n",
        "          # Forward pass to get output/logits\n",
        "          outputs = model(images)\n",
        "\n",
        "          # Calculate Loss: softmax --> cross entropy loss\n",
        "          loss = criterion(outputs, labels)\n",
        "\n",
        "          # Getting gradients w.r.t. parameters\n",
        "          loss.backward()\n",
        "\n",
        "          # Updating parameters\n",
        "          optimizer.step()\n",
        "\n",
        "          iter += 1\n",
        "\n",
        "          if iter % 500 == 0:              \n",
        "              print(\" Training Loss: {}\".format(loss))\n",
        "              test_model(model=model,test_loader=validation_loader)"
      ],
      "execution_count": 0,
      "outputs": []
    },
    {
      "cell_type": "markdown",
      "metadata": {
        "id": "8DESaKaPreoG",
        "colab_type": "text"
      },
      "source": [
        "## Test Model Function"
      ]
    },
    {
      "cell_type": "code",
      "metadata": {
        "id": "W51xeEPoxKPQ",
        "colab_type": "code",
        "colab": {}
      },
      "source": [
        "def test_model(model,test_loader):\n",
        "  # Calculate Accuracy         \n",
        "  correct = 0\n",
        "  total = 0\n",
        "  model.eval()\n",
        "  # Iterate through test dataset\n",
        "  for batch in test_loader:\n",
        "      \n",
        "      # Add batch to GPU\n",
        "      batch = tuple(t.to(device) for t in batch)\n",
        "      # Unpack the inputs from our dataloader\n",
        "      images, labels = batch\n",
        "\n",
        "      # Load images\n",
        "      images = images.requires_grad_().unsqueeze(1)\n",
        "\n",
        "      # Forward pass only to get logits/output\n",
        "      outputs = model(images)\n",
        "\n",
        "      # Get predictions from the maximum value\n",
        "      _, predicted = torch.max(outputs.data, 1)\n",
        "      \n",
        "      # Total number of labels\n",
        "      total += labels.size(0)\n",
        "\n",
        "      # Total correct predictions\n",
        "      correct += (predicted == labels).sum()\n",
        "      \n",
        "  accuracy = 100 * correct / total\n",
        "\n",
        "  # Print Loss\n",
        "  print('Total count: ',total)\n",
        "  print('Total correct: ',correct.cpu().numpy())\n",
        "  for param_group in optimizer.param_groups:\n",
        "    print(\"Learning Rate: \",param_group['lr'])\n",
        "  print('Accuracy: {}'.format(accuracy))          "
      ],
      "execution_count": 0,
      "outputs": []
    },
    {
      "cell_type": "markdown",
      "metadata": {
        "id": "eO0tGyEPriEB",
        "colab_type": "text"
      },
      "source": [
        "## Putting everything together"
      ]
    },
    {
      "cell_type": "code",
      "metadata": {
        "colab_type": "code",
        "outputId": "059ee68b-f61c-4934-f481-65ccf642f480",
        "id": "Kn05UYIhmvXP",
        "colab": {
          "base_uri": "https://localhost:8080/",
          "height": 697
        }
      },
      "source": [
        "learning_rate=1e-3\n",
        "model = NeuralNetwork()\n",
        "optimizer=torch.optim.AdamW(model.parameters(), lr=learning_rate)\n",
        "criterion = nn.CrossEntropyLoss()\n",
        "print(\"\\n<\"+\"=\"*50+\"Training Model\"+\"=\"*50+\">\\n\")\n",
        "train_model(model=model,train_loader=train_loader,validation_loader=validation_loader,num_epochs=num_epochs,optimizer=optimizer,criterion=criterion,lr=learning_rate)\n",
        "print(\"\\n<\"+\"=\"*50+\"Testing Model\"+\"=\"*50+\">\\n\")\n",
        "test_model(model=model,test_loader=test_loader)"
      ],
      "execution_count": 15,
      "outputs": [
        {
          "output_type": "stream",
          "text": [
            "\n",
            "<==================================================Training Model==================================================>\n",
            "\n",
            " Training Loss: 0.14031648635864258\n",
            "Total count:  5000\n",
            "Total correct:  4859\n",
            "Learning Rate:  0.001\n",
            "Accuracy: 97\n",
            " Training Loss: 0.04489393159747124\n",
            "Total count:  5000\n",
            "Total correct:  4899\n",
            "Learning Rate:  0.001\n",
            "Accuracy: 97\n",
            " Training Loss: 0.06963510811328888\n",
            "Total count:  5000\n",
            "Total correct:  4915\n",
            "Learning Rate:  0.001\n",
            "Accuracy: 98\n",
            " Training Loss: 0.014373283833265305\n",
            "Total count:  5000\n",
            "Total correct:  4919\n",
            "Learning Rate:  0.001\n",
            "Accuracy: 98\n",
            " Training Loss: 0.008354668505489826\n",
            "Total count:  5000\n",
            "Total correct:  4933\n",
            "Learning Rate:  0.001\n",
            "Accuracy: 98\n",
            " Training Loss: 0.2578398883342743\n",
            "Total count:  5000\n",
            "Total correct:  4947\n",
            "Learning Rate:  0.001\n",
            "Accuracy: 98\n",
            "\n",
            "<==================================================Testing Model==================================================>\n",
            "\n",
            "Total count:  5000\n",
            "Total correct:  4918\n",
            "Learning Rate:  0.001\n",
            "Accuracy: 98\n"
          ],
          "name": "stdout"
        }
      ]
    }
  ]
}